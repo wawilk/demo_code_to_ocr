{
 "cells": [
  {
   "cell_type": "markdown",
   "metadata": {},
   "source": [
    "### Wait, slow down there :)\n",
    "\n",
    "Have you already trained your custom model?\n",
    "To work through this notebook you will need a trained custom model.\n",
    "\n",
    "If you still need to create your model, you can use the Document Intelligence Studio: https://documentintelligence.ai.azure.com/studio  \n",
    "Just follow this guide: https://learn.microsoft.com/en-us/azure/ai-services/document-intelligence/how-to-guides/build-a-custom-model?view=doc-intel-4.0.0\n",
    "\n",
    "If you need some sample forms, there are some very basic ones in \\sample_forms\n",
    "\n",
    "After creating the your trained custom model, come back here to write python code\n",
    "to call your model's API endpoint to OCR a form and then parse the result JSON.\n"
   ]
  },
  {
   "cell_type": "markdown",
   "metadata": {},
   "source": [
    "### Choose your library\n",
    "\n",
    "In the first part of this notenbook we will use the azure.ai.formrecognizer library  \n",
    "to make the API cal\n",
    "\n",
    "In the second part of this notebook  \n",
    "we will make the same API call using the newer azure-ai-documentintelligence library\n"
   ]
  },
  {
   "cell_type": "markdown",
   "metadata": {},
   "source": [
    "### Install required libraries\n",
    "\n",
    "Before we can make the API call to the Azure Document Intelligence Service  \n",
    "we need the right libraries installed.\n",
    "\n",
    "If you haven't already run the requirements.txt file you should do that first to install the needed libraries.\n"
   ]
  },
  {
   "cell_type": "code",
   "execution_count": 1,
   "metadata": {},
   "outputs": [
    {
     "name": "stdout",
     "output_type": "stream",
     "text": [
      "Requirement already satisfied: azure.ai.formrecognizer==3.3.2 in c:\\repo\\demo_code_for_3_20\\.venv\\lib\\site-packages (from -r requirements.txt (line 2)) (3.3.2)\n",
      "Requirement already satisfied: azure-ai-documentintelligence==1.0.0b2 in c:\\repo\\demo_code_for_3_20\\.venv\\lib\\site-packages (from -r requirements.txt (line 6)) (1.0.0b2)\n",
      "Requirement already satisfied: azure.identity in c:\\repo\\demo_code_for_3_20\\.venv\\lib\\site-packages (from -r requirements.txt (line 8)) (1.15.0)\n",
      "Requirement already satisfied: azure.core in c:\\repo\\demo_code_for_3_20\\.venv\\lib\\site-packages (from -r requirements.txt (line 9)) (1.30.1)\n",
      "Requirement already satisfied: msrest>=0.6.21 in c:\\repo\\demo_code_for_3_20\\.venv\\lib\\site-packages (from azure.ai.formrecognizer==3.3.2->-r requirements.txt (line 2)) (0.7.1)\n",
      "Requirement already satisfied: azure-common~=1.1 in c:\\repo\\demo_code_for_3_20\\.venv\\lib\\site-packages (from azure.ai.formrecognizer==3.3.2->-r requirements.txt (line 2)) (1.1.28)\n",
      "Requirement already satisfied: typing-extensions>=4.0.1 in c:\\repo\\demo_code_for_3_20\\.venv\\lib\\site-packages (from azure.ai.formrecognizer==3.3.2->-r requirements.txt (line 2)) (4.10.0)\n",
      "Requirement already satisfied: isodate<1.0.0,>=0.6.1 in c:\\repo\\demo_code_for_3_20\\.venv\\lib\\site-packages (from azure-ai-documentintelligence==1.0.0b2->-r requirements.txt (line 6)) (0.6.1)\n",
      "Requirement already satisfied: cryptography>=2.5 in c:\\repo\\demo_code_for_3_20\\.venv\\lib\\site-packages (from azure.identity->-r requirements.txt (line 8)) (42.0.5)\n",
      "Requirement already satisfied: msal<2.0.0,>=1.24.0 in c:\\repo\\demo_code_for_3_20\\.venv\\lib\\site-packages (from azure.identity->-r requirements.txt (line 8)) (1.27.0)\n",
      "Requirement already satisfied: msal-extensions<2.0.0,>=0.3.0 in c:\\repo\\demo_code_for_3_20\\.venv\\lib\\site-packages (from azure.identity->-r requirements.txt (line 8)) (1.1.0)\n",
      "Requirement already satisfied: requests>=2.21.0 in c:\\repo\\demo_code_for_3_20\\.venv\\lib\\site-packages (from azure.core->-r requirements.txt (line 9)) (2.31.0)\n",
      "Requirement already satisfied: six>=1.11.0 in c:\\repo\\demo_code_for_3_20\\.venv\\lib\\site-packages (from azure.core->-r requirements.txt (line 9)) (1.16.0)\n",
      "Requirement already satisfied: cffi>=1.12 in c:\\repo\\demo_code_for_3_20\\.venv\\lib\\site-packages (from cryptography>=2.5->azure.identity->-r requirements.txt (line 8)) (1.16.0)\n",
      "Requirement already satisfied: PyJWT<3,>=1.0.0 in c:\\repo\\demo_code_for_3_20\\.venv\\lib\\site-packages (from PyJWT[crypto]<3,>=1.0.0->msal<2.0.0,>=1.24.0->azure.identity->-r requirements.txt (line 8)) (2.8.0)\n",
      "Requirement already satisfied: packaging in c:\\repo\\demo_code_for_3_20\\.venv\\lib\\site-packages (from msal-extensions<2.0.0,>=0.3.0->azure.identity->-r requirements.txt (line 8)) (24.0)\n",
      "Requirement already satisfied: portalocker<3,>=1.6 in c:\\repo\\demo_code_for_3_20\\.venv\\lib\\site-packages (from msal-extensions<2.0.0,>=0.3.0->azure.identity->-r requirements.txt (line 8)) (2.8.2)\n",
      "Requirement already satisfied: certifi>=2017.4.17 in c:\\repo\\demo_code_for_3_20\\.venv\\lib\\site-packages (from msrest>=0.6.21->azure.ai.formrecognizer==3.3.2->-r requirements.txt (line 2)) (2024.2.2)\n",
      "Requirement already satisfied: requests-oauthlib>=0.5.0 in c:\\repo\\demo_code_for_3_20\\.venv\\lib\\site-packages (from msrest>=0.6.21->azure.ai.formrecognizer==3.3.2->-r requirements.txt (line 2)) (1.4.0)\n",
      "Requirement already satisfied: charset-normalizer<4,>=2 in c:\\repo\\demo_code_for_3_20\\.venv\\lib\\site-packages (from requests>=2.21.0->azure.core->-r requirements.txt (line 9)) (3.3.2)\n",
      "Requirement already satisfied: idna<4,>=2.5 in c:\\repo\\demo_code_for_3_20\\.venv\\lib\\site-packages (from requests>=2.21.0->azure.core->-r requirements.txt (line 9)) (3.6)\n",
      "Requirement already satisfied: urllib3<3,>=1.21.1 in c:\\repo\\demo_code_for_3_20\\.venv\\lib\\site-packages (from requests>=2.21.0->azure.core->-r requirements.txt (line 9)) (2.2.1)\n",
      "Requirement already satisfied: pycparser in c:\\repo\\demo_code_for_3_20\\.venv\\lib\\site-packages (from cffi>=1.12->cryptography>=2.5->azure.identity->-r requirements.txt (line 8)) (2.21)\n",
      "Requirement already satisfied: pywin32>=226 in c:\\repo\\demo_code_for_3_20\\.venv\\lib\\site-packages (from portalocker<3,>=1.6->msal-extensions<2.0.0,>=0.3.0->azure.identity->-r requirements.txt (line 8)) (306)\n",
      "Requirement already satisfied: oauthlib>=3.0.0 in c:\\repo\\demo_code_for_3_20\\.venv\\lib\\site-packages (from requests-oauthlib>=0.5.0->msrest>=0.6.21->azure.ai.formrecognizer==3.3.2->-r requirements.txt (line 2)) (3.2.2)\n",
      "Note: you may need to restart the kernel to use updated packages.\n"
     ]
    }
   ],
   "source": [
    "%pip install -r requirements.txt\n",
    "#\n",
    "# notice you will get the latest as of 3/14/24\n",
    "# azure.ai.formrecognizer             version 3.3.2   which supports APIs    2.0, 2.1, 2022-08-31, 2023-07-31 (default)\n",
    "# and azure-ai-documentintelligence   version 1.0.0b2 which supports API     2024-02-29-preview"
   ]
  },
  {
   "cell_type": "markdown",
   "metadata": {},
   "source": [
    "### Now read in secrets from the .env file\n",
    "\n",
    "You will need these 4 pieces if information when we call our API:\n",
    "\n",
    "1. The Model ID - Get it from the Document Intelligence Studio\n",
    "2. The Document Intelligence Resource API key - Get it from the Document Intelligence Studio or the Azure Portal.\n",
    "3. The Document Intelligence Resource Endpoint - Get it from the Document Intelligence Studio or the Azure Portal.\n",
    "4. The URL for your test document that you want to OCR - get if from Azure Storage Explorer or The Azure Portal.  \n",
    "   &nbsp;&nbsp;(If you need Azure Storage Explorer download it here : https://storageexplorer.com/ )\n",
    "\n",
    "To avoid exposing your keys, endpoints or other secret information,  \n",
    "you should store them external from your notebook and read them in programatically.\n",
    "\n",
    "The code below expects them to be in an .env file like shown below:\n",
    "\n",
    "DOCUMENT_INTELLIGENCE_ENDPOINT = \"Your endpoint goes here\"  \n",
    "DOCUMENT_INTELLIGENCE_KEY = \"Your key goes here\"  \n",
    "MODEL_ID = \"Your Model ID goes here\"  \n",
    "DOCUMENT_URL = \"The URL to your test document goes here\"\n",
    "\n",
    "I have provided a sample.env file.\n",
    "Just fill in your values in the sample.env and then rename it to .env\n"
   ]
  },
  {
   "cell_type": "code",
   "execution_count": 2,
   "metadata": {},
   "outputs": [],
   "source": [
    "import os\n",
    "from dotenv import load_dotenv\n",
    "\n",
    "#\n",
    "# load my environment variables from .env file\n",
    "load_dotenv()\n",
    "#\n",
    "# retrieve the values from the environment variables\n",
    "#\n",
    "# the endpoint to your model\n",
    "endpoint = os.getenv(\"DOCUMENT_INTELLIGENCE_ENDPOINT\")\n",
    "#\n",
    "# the API key to the model\n",
    "key = os.getenv(\"DOCUMENT_INTELLIGENCE_KEY\")\n",
    "#\n",
    "# your model ID\n",
    "model_id = os.getenv(\"MODEL_ID\")\n",
    "#\n",
    "# the URL to a document that you want to OCR\n",
    "formUrl = os.getenv(\"DOCUMENT_URL\")\n",
    "#\n",
    "if endpoint is None:\n",
    "    raise ValueError(\"Please provide a valid endpoint in the .env file\")\n",
    "if key is None:\n",
    "    raise ValueError(\"Please provide a valid key in the .env file\")\n",
    "if model_id is None:\n",
    "    raise ValueError(\"Please provide a valid model ID in the .env file\")\n",
    "if formUrl is None:\n",
    "    raise ValueError(\"Please provide a valid document URL in the .env file\")"
   ]
  },
  {
   "cell_type": "markdown",
   "metadata": {},
   "source": [
    "## Using the Form Recognizer Library\n",
    "\n",
    "### Call the API\n",
    "\n",
    "Now we will OCR the test form using the model by calling the endpoint\n",
    "Note the variables endpoint, key, model_id, formUrl were populated in the previous cell\n"
   ]
  },
  {
   "cell_type": "code",
   "execution_count": 3,
   "metadata": {},
   "outputs": [],
   "source": [
    "from azure.core.credentials import AzureKeyCredential\n",
    "from azure.ai.formrecognizer import DocumentAnalysisClient\n",
    "\n",
    "document_analysis_client = DocumentAnalysisClient(\n",
    "    endpoint=endpoint, credential=AzureKeyCredential(key)\n",
    ")\n",
    "\n",
    "# Make sure your document's type is included in the list of document types the custom model can analyze\n",
    "poller = document_analysis_client.begin_analyze_document_from_url(model_id, formUrl)\n",
    "result = poller.result()"
   ]
  },
  {
   "cell_type": "markdown",
   "metadata": {},
   "source": [
    "### Parse the result\n",
    "\n",
    "The Form has been OCR'd. The Result variable has lots of  \n",
    "JSON that describes what the model identified.  \n",
    "(It really has a lot of data)\n",
    "\n",
    "Below is a set of generic parsing code that was given by the studio when I created the model.  \n",
    "It is also shown in the SDK: https://github.com/Azure/azure-sdk-for-python/tree/main/sdk/formrecognizer/azure-ai-formrecognizer#analyze-documents-using-a-custom-model  \n",
    "It does a generic unravling of the result JSON returned from the API call.\n"
   ]
  },
  {
   "cell_type": "code",
   "execution_count": 4,
   "metadata": {},
   "outputs": [
    {
     "name": "stdout",
     "output_type": "stream",
     "text": [
      "--------Analyzing document #1--------\n",
      "Document has type First_Form:First_Form\n",
      "Document has confidence 0.994\n",
      "Document was analyzed by model with ID First_Form\n",
      "......found field of type 'string' with value '76 Sunset road' and with confidence 0.994\n",
      "......found field of type 'string' with value 'Tyler Haywood' and with confidence 0.995\n",
      "......found field of type 'string' with value 'Toledo' and with confidence 0.994\n",
      "......found field of type 'string' with value 'OH' and with confidence 0.995\n",
      "\n",
      "Lines found on page 1\n",
      "...Line 'b'Please fill in the fields below''\n",
      "...Line 'b'Name: Tyler Haywood''\n",
      "...Line 'b'Address: 76 Sunset road''\n",
      "...Line 'b'City: Toledo''\n",
      "...Line 'b'State: OH''\n",
      "...Word 'b'Please'' has a confidence of 0.995\n",
      "...Word 'b'fill'' has a confidence of 0.993\n",
      "...Word 'b'in'' has a confidence of 0.997\n",
      "...Word 'b'the'' has a confidence of 0.994\n",
      "...Word 'b'fields'' has a confidence of 0.995\n",
      "...Word 'b'below'' has a confidence of 0.993\n",
      "...Word 'b'Name:'' has a confidence of 0.995\n",
      "...Word 'b'Tyler'' has a confidence of 0.995\n",
      "...Word 'b'Haywood'' has a confidence of 0.995\n",
      "...Word 'b'Address:'' has a confidence of 0.995\n",
      "...Word 'b'76'' has a confidence of 0.995\n",
      "...Word 'b'Sunset'' has a confidence of 0.995\n",
      "...Word 'b'road'' has a confidence of 0.993\n",
      "...Word 'b'City:'' has a confidence of 0.995\n",
      "...Word 'b'Toledo'' has a confidence of 0.99\n",
      "...Word 'b'State:'' has a confidence of 0.99\n",
      "...Word 'b'OH'' has a confidence of 0.995\n",
      "-----------------------------------\n"
     ]
    }
   ],
   "source": [
    "# this will extract the fields and their values from the document\n",
    "for idx, document in enumerate(result.documents):\n",
    "    print(\"--------Analyzing document #{}--------\".format(idx + 1))\n",
    "    print(\"Document has type {}\".format(document.doc_type))\n",
    "    print(\"Document has confidence {}\".format(document.confidence))\n",
    "    print(\"Document was analyzed by model with ID {}\".format(result.model_id))\n",
    "    for name, field in document.fields.items():\n",
    "        field_value = field.value if field.value else field.content\n",
    "        print(\n",
    "            \"......found field of type '{}' with value '{}' and with confidence {}\".format(\n",
    "                field.value_type, field_value, field.confidence\n",
    "            )\n",
    "        )\n",
    "\n",
    "\n",
    "# iterate over tables, lines, and selection marks on each page\n",
    "# if you have checkboxes on your form this type of parse will be useful\n",
    "for page in result.pages:\n",
    "    print(\"\\nLines found on page {}\".format(page.page_number))\n",
    "    for line in page.lines:\n",
    "        print(\"...Line '{}'\".format(line.content.encode(\"utf-8\")))\n",
    "    for word in page.words:\n",
    "        print(\n",
    "            \"...Word '{}' has a confidence of {}\".format(\n",
    "                word.content.encode(\"utf-8\"), word.confidence\n",
    "            )\n",
    "        )\n",
    "    for selection_mark in page.selection_marks:\n",
    "        print(\n",
    "            \"...Selection mark is '{}' and has a confidence of {}\".format(\n",
    "                selection_mark.state, selection_mark.confidence\n",
    "            )\n",
    "        )\n",
    "\n",
    "# use this type of code if you modelled the data to extract as tables\n",
    "for i, table in enumerate(result.tables):\n",
    "    print(\"\\nTable {} can be found on page:\".format(i + 1))\n",
    "    for region in table.bounding_regions:\n",
    "        print(\"...{}\".format(i + 1, region.page_number))\n",
    "    for cell in table.cells:\n",
    "        print(\n",
    "            \"...Cell[{}][{}] has content '{}'\".format(\n",
    "                cell.row_index, cell.column_index, cell.content.encode(\"utf-8\")\n",
    "            )\n",
    "        )\n",
    "print(\"-----------------------------------\")"
   ]
  },
  {
   "cell_type": "markdown",
   "metadata": {},
   "source": [
    "### Parse the models fields\n",
    "\n",
    "But since we have created a custom model, we can chose to retrieve only those fields modelled when creating the model for and no more.  \n",
    "My form had only 4 fields so I'll use part of the above supplied code as my example  \n",
    "and pull the field names an values by looping through the document.fields.items().  \n",
    "I I'll format my output as JSON.\n"
   ]
  },
  {
   "cell_type": "code",
   "execution_count": 6,
   "metadata": {},
   "outputs": [
    {
     "name": "stdout",
     "output_type": "stream",
     "text": [
      "{\"Address\" : \"76 Sunset road\"}\n",
      "{\"Name\" : \"Tyler Haywood\"}\n",
      "{\"City\" : \"Toledo\"}\n",
      "{\"State\" : \"OH\"}\n"
     ]
    }
   ],
   "source": [
    "for name, field in document.fields.items():\n",
    "    field_value = field.value if field.value else field.content\n",
    "    print('{\"' + name + '\" : \"' + field_value + '\"}')"
   ]
  },
  {
   "cell_type": "markdown",
   "metadata": {},
   "source": [
    "### Format the JSON to meet any expected format for downstream consumption!\n",
    "\n",
    "************* End of Demo Code for azure.ai.formrecognizer *************\n"
   ]
  },
  {
   "cell_type": "markdown",
   "metadata": {},
   "source": [
    "## Using the new Document Intelligence library\n",
    "\n",
    "In this next section we will do the same thing as above, OCR a form.\n",
    "But this time we will use the newer Document Intelligence library: azure-ai-documentintelligence.\n"
   ]
  },
  {
   "cell_type": "markdown",
   "metadata": {},
   "source": [
    "### Install the required libaries\n",
    "\n",
    "If we hadn't installed the requirement file already we would need to install azure-ai-documentintelligence.\n"
   ]
  },
  {
   "cell_type": "code",
   "execution_count": null,
   "metadata": {
    "vscode": {
     "languageId": "plaintext"
    }
   },
   "outputs": [],
   "source": [
    "# Install required libraries\n",
    "\n",
    "# %pip install azure-ai-documentintelligence\n"
   ]
  },
  {
   "cell_type": "markdown",
   "metadata": {},
   "source": [
    "### Retrieve our Secrets\n",
    "\n",
    "That code is not part of Document Intelligence and I already have my variables populated with secrets so we can move on.\n"
   ]
  },
  {
   "cell_type": "markdown",
   "metadata": {},
   "source": [
    "### OCR a Form\n",
    "\n",
    "We will use the azure-ai-documentintelligence libary.  \n",
    "The code below sents out test form to the API endpoint.\n",
    "\n",
    "Remember my endpoint , key, model_id and formUrl are already populated from values that\n",
    "I read in from environment variables that I loaded in my .env file.\n"
   ]
  },
  {
   "cell_type": "code",
   "execution_count": 7,
   "metadata": {},
   "outputs": [],
   "source": [
    "from azure.core.credentials import AzureKeyCredential\n",
    "from azure.identity import DefaultAzureCredential\n",
    "from azure.ai.documentintelligence import DocumentIntelligenceClient\n",
    "from azure.ai.documentintelligence.models import AnalyzeDocumentRequest, AnalyzeResult\n",
    "\n",
    "#\n",
    "# Initialize the Doc Intelligence client\n",
    "document_intelligence_client = DocumentIntelligenceClient(\n",
    "    endpoint, credential=AzureKeyCredential(key)\n",
    ")\n",
    "#\n",
    "# set up call to the API\n",
    "analyze_request = AnalyzeDocumentRequest(url_source=formUrl)\n",
    "#\n",
    "# make the call and wait for response\n",
    "poller = document_intelligence_client.begin_analyze_document(\n",
    "    model_id=model_id, analyze_request=analyze_request\n",
    ")\n",
    "\n",
    "# get the result of the call\n",
    "result = poller.result()"
   ]
  },
  {
   "cell_type": "markdown",
   "metadata": {},
   "source": [
    "### Parse the Results\n",
    "\n",
    "Below is a generic parse routing for the results from the sdk: https://github.com/Azure/azure-sdk-for-python/tree/main/sdk/documentintelligence/azure-ai-documentintelligence#analyze-documents-using-a-custom-model\n"
   ]
  },
  {
   "cell_type": "code",
   "execution_count": 8,
   "metadata": {},
   "outputs": [
    {
     "name": "stdout",
     "output_type": "stream",
     "text": [
      "--------Analyzing document #1--------\n",
      "Document has type First_Form:First_Form\n",
      "Document has document type confidence 0.994\n",
      "Document was analyzed with model with ID First_Form\n",
      "......found field of type 'DocumentFieldType.STRING' with value 'Toledo' and with confidence 0.994\n",
      "......found field of type 'DocumentFieldType.STRING' with value 'Tyler Haywood' and with confidence 0.995\n",
      "......found field of type 'DocumentFieldType.STRING' with value 'OH' and with confidence 0.995\n",
      "......found field of type 'DocumentFieldType.STRING' with value '76 Sunset road' and with confidence 0.994\n",
      "\n",
      "Lines found on page 1\n",
      "...Line 'Please fill in the fields below'\n",
      "...Line 'Name: Tyler Haywood'\n",
      "...Line 'Address: 76 Sunset road'\n",
      "...Line 'City: Toledo'\n",
      "...Line 'State: OH'\n",
      "...Word 'Please' has a confidence of 0.995\n",
      "...Word 'fill' has a confidence of 0.993\n",
      "...Word 'in' has a confidence of 0.997\n",
      "...Word 'the' has a confidence of 0.994\n",
      "...Word 'fields' has a confidence of 0.995\n",
      "...Word 'below' has a confidence of 0.993\n",
      "...Word 'Name:' has a confidence of 0.995\n",
      "...Word 'Tyler' has a confidence of 0.995\n",
      "...Word 'Haywood' has a confidence of 0.995\n",
      "...Word 'Address:' has a confidence of 0.995\n",
      "...Word '76' has a confidence of 0.995\n",
      "...Word 'Sunset' has a confidence of 0.995\n",
      "...Word 'road' has a confidence of 0.993\n",
      "...Word 'City:' has a confidence of 0.995\n",
      "...Word 'Toledo' has a confidence of 0.99\n",
      "...Word 'State:' has a confidence of 0.99\n",
      "...Word 'OH' has a confidence of 0.995\n",
      "-----------------------------------\n"
     ]
    }
   ],
   "source": [
    "# I can extract information about the document\n",
    "# and read the modelled fields\n",
    "if result.documents:\n",
    "    for idx, document in enumerate(result.documents):\n",
    "        print(f\"--------Analyzing document #{idx + 1}--------\")\n",
    "        print(f\"Document has type {document.doc_type}\")\n",
    "        print(f\"Document has document type confidence {document.confidence}\")\n",
    "        print(f\"Document was analyzed with model with ID {result.model_id}\")\n",
    "        if document.fields:\n",
    "            for name, field in document.fields.items():\n",
    "                field_value = (\n",
    "                    field.get(\"valueString\")\n",
    "                    if field.get(\"valueString\")\n",
    "                    else field.content\n",
    "                )\n",
    "                print(\n",
    "                    f\"......found field of type '{field.type}' with value '{field_value}' and with confidence {field.confidence}\"\n",
    "                )\n",
    "\n",
    "# iterate over tables, lines, and selection marks on each page\n",
    "for page in result.pages:\n",
    "    print(f\"\\nLines found on page {page.page_number}\")\n",
    "    if page.lines:\n",
    "        for line in page.lines:\n",
    "            print(f\"...Line '{line.content}'\")\n",
    "    if page.words:\n",
    "        for word in page.words:\n",
    "            print(f\"...Word '{word.content}' has a confidence of {word.confidence}\")\n",
    "    if page.selection_marks:\n",
    "        print(f\"\\nSelection marks found on page {page.page_number}\")\n",
    "        for selection_mark in page.selection_marks:\n",
    "            print(\n",
    "                f\"...Selection mark is '{selection_mark.state}' and has a confidence of {selection_mark.confidence}\"\n",
    "            )\n",
    "\n",
    "if result.tables:\n",
    "    for i, table in enumerate(result.tables):\n",
    "        print(f\"\\nTable {i + 1} can be found on page:\")\n",
    "        if table.bounding_regions:\n",
    "            for region in table.bounding_regions:\n",
    "                print(f\"...{region.page_number}\")\n",
    "        for cell in table.cells:\n",
    "            print(\n",
    "                f\"...Cell[{cell.row_index}][{cell.column_index}] has text '{cell.content}'\"\n",
    "            )\n",
    "print(\"-----------------------------------\")"
   ]
  },
  {
   "cell_type": "markdown",
   "metadata": {},
   "source": [
    "### Get Just our Modelled Fields\n",
    "\n",
    "If that is all we want, the code is similar but not exactly the same as the azure.ai.formrecognizer  \n",
    "I'll format my output to be JSON again.\n"
   ]
  },
  {
   "cell_type": "code",
   "execution_count": 19,
   "metadata": {},
   "outputs": [
    {
     "name": "stdout",
     "output_type": "stream",
     "text": [
      "{\"City\"}:{\"Toledo\"}\n",
      "{\"Name\"}:{\"Tyler Haywood\"}\n",
      "{\"State\"}:{\"OH\"}\n",
      "{\"Address\"}:{\"76 Sunset road\"}\n"
     ]
    }
   ],
   "source": [
    "if document.fields:\n",
    "    for name, field in document.fields.items():\n",
    "        field_value = (\n",
    "            field.get(\"valueString\") if field.get(\"valueString\") else field.content\n",
    "        )\n",
    "        print('{\"' + name + '\"}:{\"' + field_value + '\"}')"
   ]
  },
  {
   "cell_type": "markdown",
   "metadata": {},
   "source": [
    "### Format as Needed by Downstream apps\n",
    "\n",
    "If you have set of APIs sigatures or an expected ingestion format you can format the data as needed.\n",
    "\n",
    "************* End of Demo Code for azure-ai-documentintelligence *************\n"
   ]
  },
  {
   "cell_type": "markdown",
   "metadata": {},
   "source": [
    "### Links to Resources\n",
    "\n",
    "#### For the SDKs\n",
    "\n",
    "The current python SDK for azure-ai-documentintelligence (1.0.0b2 as of 3/14/24): https://github.com/Azure/azure-sdk-for-python/tree/main/sdk/documentintelligence/azure-ai-documentintelligence  \n",
    "The current python SDK for azure-ai-formrecognizer (3.3.X - Latest GA release as of 3/14/24) https://github.com/Azure/azure-sdk-for-python/tree/main/sdk/formrecognizer/azure-ai-formrecognizer\n",
    "\n",
    "#### More sample code for azure-ai-formrecognizer\n",
    "\n",
    "For code snippets illustrating common patterns used in the Form Recognizer Python API see:\n",
    "https://github.com/Azure/azure-sdk-for-python/tree/main/sdk/formrecognizer/azure-ai-formrecognizer/samples#samples-for-client-library-versions-320-and-later\n",
    "https://github.com/Azure/azure-sdk-for-python/tree/main/sdk/formrecognizer/azure-ai-formrecognizer/samples\n",
    "\n",
    "#### Documentation for azure-ai-formrecognizer\n",
    "\n",
    "https://azuresdkdocs.blob.core.windows.net/$web/python/azure-ai-formrecognizer/latest/index.html\n",
    "\n",
    "#### More sample code for azure-ai-documentintelligence\n",
    "\n",
    "https://github.com/Azure/azure-sdk-for-python/tree/main/sdk/documentintelligence/azure-ai-documentintelligence#examples  \n",
    "https://github.com/Azure/azure-sdk-for-python/tree/main/sdk/documentintelligence/azure-ai-documentintelligence/samples\n",
    "\n",
    "#### Documentation for documentintelligence\n",
    "\n",
    "https://azuresdkdocs.blob.core.windows.net/$web/python/azure-ai-documentintelligence/latest/index.html\n",
    "\n",
    "#### What Models Features are available\n",
    "\n",
    "https://learn.microsoft.com/en-us/azure/ai-services/document-intelligence/concept-model-overview?view=doc-intel-4.0.0\n",
    "\n",
    "### How to do logging\n",
    "\n",
    "https://learn.microsoft.com/en-us/azure/developer/python/sdk/azure-sdk-logging\n"
   ]
  },
  {
   "cell_type": "markdown",
   "metadata": {},
   "source": [
    "### Whats Where?\n",
    "\n",
    "You can find the supported API version for the latest programming language SDKs at the links below.\n",
    "The links below are to the latest SDK versions and shows the relationship between supported Document Intelligence SDK and API versions:\n",
    "\n",
    "#### Supported Language Azure SDK reference\n",
    "\n",
    "• C#/.NET: 4.0.0&nbsp;&nbsp;&nbsp;&nbsp;&nbsp;&nbsp;&nbsp;https://azuresdkdocs.blob.core.windows.net/$web/dotnet/Azure.AI.FormRecognizer/4.0.0/index.html  \n",
    "• Java: 4.0.0&nbsp;&nbsp;&nbsp;&nbsp;&nbsp;&nbsp;&nbsp;&nbsp;&nbsp;&nbsp;&nbsp;&nbsp;&nbsp;https://azuresdkdocs.blob.core.windows.net/$web/java/azure-ai-formrecognizer/4.0.0/index.html  \n",
    "• JavaScript: 4.0.0&nbsp;&nbsp;&nbsp;&nbsp;https://azuresdkdocs.blob.core.windows.net/$web/javascript/azure-ai-form-recognizer/4.0.0/index.html  \n",
    "• Python 3.2.0&nbsp;&nbsp;&nbsp;&nbsp;&nbsp;&nbsp;&nbsp;&nbsp;&nbsp;https://azuresdkdocs.blob.core.windows.net/$web/python/azure-ai-formrecognizer/3.2.0/index.html\n",
    "\n",
    "#### All of the above support these API versions\n",
    "\n",
    "• 2023-10-31-preview&nbsp;https://learn.microsoft.com/en-us/rest/api/aiservices/document-models/build-model?view=rest-aiservices-2024-02-29-preview&branch=docintelligence&tabs=HTTP  \n",
    "• v3.0&nbsp;&nbsp;&nbsp;&nbsp;&nbsp;&nbsp;&nbsp;&nbsp;&nbsp;&nbsp;&nbsp;&nbsp;https://learn.microsoft.com/en-us/rest/api/aiservices/document-models/analyze-document?view=rest-aiservices-2023-07-31&preserve-view=true&tabs=HTTP  \n",
    "• v2.1&nbsp;&nbsp;&nbsp;&nbsp;&nbsp;&nbsp;&nbsp;&nbsp;&nbsp;&nbsp;&nbsp;&nbsp;https://westus.dev.cognitive.microsoft.com/docs/services/form-recognizer-api-v2-1/operations/AnalyzeBusinessCardAsync  \n",
    "• v2.0&nbsp;&nbsp;&nbsp;&nbsp;&nbsp;&nbsp;&nbsp;&nbsp;&nbsp;&nbsp;&nbsp;&nbsp;https://westus.dev.cognitive.microsoft.com/docs/services/form-recognizer-api-v2/operations/AnalyzeLayoutAsync\n"
   ]
  }
 ],
 "metadata": {
  "kernelspec": {
   "display_name": ".venv",
   "language": "python",
   "name": "python3"
  },
  "language_info": {
   "codemirror_mode": {
    "name": "ipython",
    "version": 3
   },
   "file_extension": ".py",
   "mimetype": "text/x-python",
   "name": "python",
   "nbconvert_exporter": "python",
   "pygments_lexer": "ipython3",
   "version": "3.12.0"
  }
 },
 "nbformat": 4,
 "nbformat_minor": 2
}
